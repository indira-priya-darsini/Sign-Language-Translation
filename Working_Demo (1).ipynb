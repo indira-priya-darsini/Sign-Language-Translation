{
 "cells": [
  {
   "cell_type": "markdown",
   "id": "5098bbc3",
   "metadata": {},
   "source": [
    "STEP 1: Download the model file using the given link."
   ]
  },
  {
   "cell_type": "markdown",
   "id": "1ac2e9f4",
   "metadata": {},
   "source": [
    "STEP 2: https://drive.google.com/file/d/1A5HISd4AA6L5qbHuleNuylzUkvOZasCJ/view?usp=sharing"
   ]
  },
  {
   "cell_type": "markdown",
   "id": "5dcbc207",
   "metadata": {},
   "source": [
    "STEP 3: Run the cell below."
   ]
  },
  {
   "cell_type": "code",
   "execution_count": null,
   "id": "301a7a69",
   "metadata": {},
   "outputs": [],
   "source": [
    "import cv2\n",
    "import mediapipe as mp\n",
    "import pandas as pd  \n",
    "import os\n",
    "import numpy as np \n",
    "\n",
    "def image_processed(hand_img):\n",
    "\n",
    "    # Image processing\n",
    "    # 1. Convert BGR to RGB\n",
    "    img_rgb = cv2.cvtColor(hand_img, cv2.COLOR_BGR2RGB)\n",
    "\n",
    "    # 2. Flip the img in Y-axis\n",
    "    img_flip = cv2.flip(img_rgb, 1)\n",
    "\n",
    "    # accessing MediaPipe solutions\n",
    "    mp_hands = mp.solutions.hands\n",
    "\n",
    "    # Initialize Hands\n",
    "    hands = mp_hands.Hands(static_image_mode=True,\n",
    "    max_num_hands=1, min_detection_confidence=0.7)\n",
    "\n",
    "    # Results\n",
    "    output = hands.process(img_flip)\n",
    "\n",
    "    hands.close()\n",
    "\n",
    "    try:\n",
    "        data = output.multi_hand_landmarks[0]\n",
    "        #print(data)\n",
    "        data = str(data)\n",
    "\n",
    "        data = data.strip().split('\\n')\n",
    "\n",
    "        garbage = ['landmark {', '  visibility: 0.0', '  presence: 0.0', '}']\n",
    "\n",
    "        without_garbage = []\n",
    "\n",
    "        for i in data:\n",
    "            if i not in garbage:\n",
    "                without_garbage.append(i)\n",
    "                #print(without_garbage[0],\"WITHOUT GARBAGE\")\n",
    "                        \n",
    "        clean = []\n",
    "\n",
    "        for i in without_garbage:\n",
    "            i = i.strip()\n",
    "            clean.append(i[2:])\n",
    "            #print(clean[0],\"CLEAN\")\n",
    "\n",
    "        for i in range(0, len(clean)):\n",
    "            clean[i] = float(clean[i])\n",
    "        return(clean)\n",
    "    except:\n",
    "        return(np.zeros([1,63], dtype=int)[0])\n",
    "\n",
    "\n",
    "\n"
   ]
  },
  {
   "cell_type": "markdown",
   "id": "d57df901",
   "metadata": {},
   "source": [
    "STEP 4: Edit the file path with the model's address.\n",
    "        (model_path =os.path.join(r\"File path\"))"
   ]
  },
  {
   "cell_type": "markdown",
   "id": "3fecf036",
   "metadata": {},
   "source": [
    "STEP 5: Run the cell below."
   ]
  },
  {
   "cell_type": "markdown",
   "id": "3d07c702",
   "metadata": {},
   "source": [
    "NOTE: Press 'q' for stop running."
   ]
  },
  {
   "cell_type": "code",
   "execution_count": null,
   "id": "1c5e1edb",
   "metadata": {},
   "outputs": [],
   "source": [
    "import pickle\n",
    "#load model's address\n",
    "model_path =os.path.join(r\"E:\\Project\\model1.pkl\")\n",
    "with open(model_path, 'rb') as f:\n",
    "    svm = pickle.load(f)\n",
    "\n",
    "\n",
    "import cv2 as cv\n",
    "cap = cv.VideoCapture(0)\n",
    "if not cap.isOpened():\n",
    "    print(\"Cannot open camera\")\n",
    "    exit()\n",
    "i = 0    \n",
    "while True:\n",
    "    \n",
    "    ret, frame = cap.read()\n",
    "\n",
    "    if not ret:\n",
    "        print(\"Can't receive frame (stream end?). Exiting ...\")\n",
    "        break\n",
    "    # frame = cv.flip(frame,1)\n",
    "    data = image_processed(frame)\n",
    "    \n",
    "    # print(data.shape)\n",
    "    data = np.array(data)\n",
    "    print(data,\"NUMPY ARRAY\")\n",
    "    y_pred = svm.predict(data.reshape(-1,63))\n",
    "    print(y_pred)\n",
    "    # font\n",
    "    font = cv2.FONT_HERSHEY_SIMPLEX\n",
    "    \n",
    "    # org\n",
    "    org = (50, 100)\n",
    "    \n",
    "    # fontScale\n",
    "    fontScale = 3\n",
    "    \n",
    "    # Blue color in BGR\n",
    "    color = (255, 0, 0)\n",
    "    \n",
    "    # Line thickness of 2 px\n",
    "    thickness = 5\n",
    "    \n",
    "    # Using cv2.putText() method\n",
    "    frame = cv2.putText(frame, str(y_pred[0]), org, font, \n",
    "                    fontScale, color, thickness, cv2.LINE_AA)\n",
    "    cv.imshow('frame', frame)\n",
    "    if cv.waitKey(1) == ord('q'):\n",
    "        break\n",
    "\n",
    "cap.release()\n",
    "cv.destroyAllWindows()\n"
   ]
  }
 ],
 "metadata": {
  "kernelspec": {
   "display_name": "Python 3 (ipykernel)",
   "language": "python",
   "name": "python3"
  },
  "language_info": {
   "codemirror_mode": {
    "name": "ipython",
    "version": 3
   },
   "file_extension": ".py",
   "mimetype": "text/x-python",
   "name": "python",
   "nbconvert_exporter": "python",
   "pygments_lexer": "ipython3",
   "version": "3.9.7"
  }
 },
 "nbformat": 4,
 "nbformat_minor": 5
}
